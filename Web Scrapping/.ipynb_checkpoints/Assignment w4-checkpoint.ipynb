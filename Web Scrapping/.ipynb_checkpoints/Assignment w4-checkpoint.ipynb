{
 "cells": [
  {
   "cell_type": "code",
   "execution_count": 2,
   "metadata": {},
   "outputs": [],
   "source": [
    "from bs4 import BeautifulSoup as soup\n",
    "from urllib.request import urlopen\n",
    "\n",
    "scrap_url = 'http://quotes.toscrape.com/'\n",
    "urlClnt = urlopen(scrap_url)\n",
    "raw_html = urlClnt.read()\n",
    "urlClnt.close"
   ]
  },
  {
   "cell_type": "code",
   "execution_count": 31,
   "metadata": {},
   "outputs": [],
   "source": [
    "page = soup(raw_html, 'html.parser')\n",
    "containers = page.findAll('div', {'class' : 'quote'})\n",
    "container = containers[0]"
   ]
  },
  {
   "cell_type": "code",
   "execution_count": 90,
   "metadata": {},
   "outputs": [
    {
     "data": {
      "text/plain": [
       "'humor,obvious,simile'"
      ]
     },
     "execution_count": 90,
     "metadata": {},
     "output_type": "execute_result"
    }
   ],
   "source": [
    "container.find('meta', {'class': 'keywords'})['content']"
   ]
  },
  {
   "cell_type": "code",
   "execution_count": 111,
   "metadata": {},
   "outputs": [],
   "source": [
    "with open('scrapping.csv', 'w') as f:\n",
    "    f.write('Quote,Author,Tags\\n')\n",
    "    \n",
    "    for container in containers:\n",
    "        Quote = container.find('span', {'class' : 'text'}).text.replace('\\\"','').replace(',','')\n",
    "        Author = container.find('small',{'class' : 'author'}).text\n",
    "        Tags = container.find('meta', {'class': 'keywords'})['content'].replace('-','').replace(',','-')\n",
    "        \n",
    "        f.write(Quote + ',' + Author + ',' + Tags + '\\n')"
   ]
  },
  {
   "cell_type": "code",
   "execution_count": 107,
   "metadata": {},
   "outputs": [
    {
     "data": {
      "text/plain": [
       "'“A day without sunshine is like, you know, night.”'"
      ]
     },
     "execution_count": 107,
     "metadata": {},
     "output_type": "execute_result"
    }
   ],
   "source": [
    "container.find('span', {'class' : 'text'}).text.replace('\"','')"
   ]
  },
  {
   "cell_type": "code",
   "execution_count": 46,
   "metadata": {},
   "outputs": [
    {
     "data": {
      "text/plain": [
       "'Albert Einstein'"
      ]
     },
     "execution_count": 46,
     "metadata": {},
     "output_type": "execute_result"
    }
   ],
   "source": [
    "Author = container.find('small',{'class' : 'author'}).text"
   ]
  },
  {
   "cell_type": "code",
   "execution_count": 67,
   "metadata": {},
   "outputs": [
    {
     "data": {
      "text/plain": [
       "[<a class=\"tag\" href=\"/tag/change/page/1/\">change</a>,\n",
       " <a class=\"tag\" href=\"/tag/deep-thoughts/page/1/\">deep-thoughts</a>,\n",
       " <a class=\"tag\" href=\"/tag/thinking/page/1/\">thinking</a>,\n",
       " <a class=\"tag\" href=\"/tag/world/page/1/\">world</a>]"
      ]
     },
     "execution_count": 67,
     "metadata": {},
     "output_type": "execute_result"
    }
   ],
   "source": [
    "container.findAll('a', {'class': 'tag'})"
   ]
  },
  {
   "cell_type": "code",
   "execution_count": 85,
   "metadata": {},
   "outputs": [
    {
     "data": {
      "text/plain": [
       "'humor,obvious,simile'"
      ]
     },
     "execution_count": 85,
     "metadata": {},
     "output_type": "execute_result"
    }
   ],
   "source": [
    "container.find('meta', {'class': 'keywords'})['content']"
   ]
  },
  {
   "cell_type": "code",
   "execution_count": 112,
   "metadata": {},
   "outputs": [],
   "source": [
    "from bs4 import BeautifulSoup as soup\n",
    "from urllib.request import urlopen\n",
    "\n",
    "scrap_url = 'http://quotes.toscrape.com/'\n",
    "urlClnt = urlopen(scrap_url)\n",
    "raw_html = urlClnt.read()\n",
    "urlClnt.close\n",
    "\n",
    "page = soup(raw_html, 'html.parser')\n",
    "containers = page.findAll('div', {'class' : 'quote'})\n",
    "container = containers[0]\n",
    "\n",
    "with open('scrapping.csv', 'w') as f:\n",
    "    f.write('Quote,Author,Tags\\n')\n",
    "    \n",
    "    for container in containers:\n",
    "        Quote = container.find('span', {'class' : 'text'}).text.replace('\"','').replace(',','')\n",
    "        Author = container.find('small',{'class' : 'author'}).text\n",
    "        Tags = container.find('meta', {'class': 'keywords'})['content'].replace('-','').replace(',','-')\n",
    "        \n",
    "        f.write(Quote + ',' + Author + ',' + Tags + '\\n')"
   ]
  },
  {
   "cell_type": "code",
   "execution_count": null,
   "metadata": {},
   "outputs": [],
   "source": []
  }
 ],
 "metadata": {
  "kernelspec": {
   "display_name": "Python 3",
   "language": "python",
   "name": "python3"
  },
  "language_info": {
   "codemirror_mode": {
    "name": "ipython",
    "version": 3
   },
   "file_extension": ".py",
   "mimetype": "text/x-python",
   "name": "python",
   "nbconvert_exporter": "python",
   "pygments_lexer": "ipython3",
   "version": "3.6.4"
  }
 },
 "nbformat": 4,
 "nbformat_minor": 2
}
